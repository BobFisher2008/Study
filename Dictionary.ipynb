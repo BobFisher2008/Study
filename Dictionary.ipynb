{
 "cells": [
  {
   "cell_type": "code",
   "execution_count": 2,
   "id": "c5a239e6",
   "metadata": {},
   "outputs": [],
   "source": [
    "def dict_of_numbers() -> dict:\n",
    "    ONES = [\"\", \"one\", \"two\", \"three\", \"four\", \"five\", \"six\", \"seven\", \"eight\", \"nine\"]  \n",
    "    TEENS = [\"ten\", \"eleven\", \"twelve\", \"thirteen\", \"fourteen\", \"fifteen\", \"sixteen\", \"seventeen\", \"eighteen\", \"nineteen\"]  \n",
    "    TENS = [\"\", \"\", \"twenty\", \"thirty\", \"forty\", \"fifty\", \"sixty\", \"seventy\", \"eighty\", \"ninety\"]\n",
    "    dic = {}\n",
    "    for k in range(0,100):\n",
    "        if k == 0:\n",
    "            dic[k] = \"zero\"\n",
    "        elif k % 10 == 0:\n",
    "            if k == 10:\n",
    "                dic[k] = TEENS[0]\n",
    "            else:\n",
    "                dic[k] = TENS[k//10]\n",
    "        elif k < 10 and k != 0:\n",
    "            dic[k] = ONES[k]\n",
    "        elif k > 10 and k < 20:\n",
    "            dic[k] = TEENS[k-10]\n",
    "        elif k >= 20 and k % 10 != 0:\n",
    "            dic[k] = TENS[k//10]+\"-\"+(ONES[k%10])\n",
    "    return dic"
   ]
  },
  {
   "cell_type": "code",
   "execution_count": null,
   "id": "5180808b",
   "metadata": {},
   "outputs": [],
   "source": []
  }
 ],
 "metadata": {
  "kernelspec": {
   "display_name": "Python 3 (ipykernel)",
   "language": "python",
   "name": "python3"
  },
  "language_info": {
   "codemirror_mode": {
    "name": "ipython",
    "version": 3
   },
   "file_extension": ".py",
   "mimetype": "text/x-python",
   "name": "python",
   "nbconvert_exporter": "python",
   "pygments_lexer": "ipython3",
   "version": "3.11.5"
  }
 },
 "nbformat": 4,
 "nbformat_minor": 5
}
